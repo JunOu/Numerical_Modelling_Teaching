{
  "nbformat": 4,
  "nbformat_minor": 0,
  "metadata": {
    "colab": {
      "provenance": [],
      "collapsed_sections": [],
      "include_colab_link": true
    },
    "kernelspec": {
      "name": "python3",
      "display_name": "Python 3"
    },
    "language_info": {
      "name": "python"
    }
  },
  "cells": [
    {
      "cell_type": "markdown",
      "metadata": {
        "id": "view-in-github",
        "colab_type": "text"
      },
      "source": [
        "<a href=\"https://colab.research.google.com/github/JunOu/Numerical_Modelling_Teaching/blob/main/000_Modelling_in_Engineering.ipynb\" target=\"_parent\"><img src=\"https://colab.research.google.com/assets/colab-badge.svg\" alt=\"Open In Colab\"/></a>"
      ]
    },
    {
      "cell_type": "markdown",
      "metadata": {
        "id": "3dZ9lZJ3fUlf"
      },
      "source": [
        "# Modelling in Engineering\n",
        "\n",
        "Last updated by Jun on August 27, 2022\n",
        "\n",
        "---\n",
        "Author: Dr. Jun Ou, Ph.D., P.Eng, Assistant Professor\n",
        "\n",
        "Mechanical Engineering, Environmental Resources Engineering,\n",
        "\n",
        "California State Polytechnic University, Humboldt\n",
        "\n",
        "Email: jun.ou@humboldt.edu (work); junmse.ou@gmail.com(personal)\n",
        "\n",
        "**Please email me if you think this document is useful to you. Thank you.**\n",
        "\n",
        "---\n",
        "\n",
        "This collection of notebooks introduces the basic theory of computational methods and the numerical methods for modelling transport processes such as heat, mass and momentum transport. \n",
        "\n",
        "License: all the notebooks, including the linked notebooks, are licensed under [Creative Commons Attribution 4.0 International License](https://creativecommons.org/licenses/by/4.0/). Free to use, with giving appropriate credit."
      ]
    },
    {
      "cell_type": "markdown",
      "source": [
        "---\n",
        "\n",
        "\n",
        "# Table of Content"
      ],
      "metadata": {
        "id": "Z1o0HRv9B5RA"
      }
    },
    {
      "cell_type": "markdown",
      "source": [
        "## Chapter I:  Programing Basics and Tool\n",
        "\n",
        "* Programing with Python [Link](https://colab.research.google.com/drive/1p4_B33Aqqv5Ve_X1SFJr8d6evP7al-iz)\n",
        "\n",
        "* Use of Jupyter Notebook [Link](https://colab.research.google.com/drive/1tDFcStzkTguQasGqD1oX1uyuvrHnmP-T)"
      ],
      "metadata": {
        "id": "j3lChr6fZEq6"
      }
    },
    {
      "cell_type": "markdown",
      "source": [
        "## Chapter II: Computational Methods\n",
        "\n",
        "* Taylor Series [Link](https://colab.research.google.com/drive/1HnLbuJs3ZFN6CkrC54Xc8tI7b2QXfl1U)\n",
        "\n",
        "* Vector and Matrix [Link](https://colab.research.google.com/drive/1XVzigesAD5mlR0Jvr1JsUhHZUnH-ETNL)\n",
        "\n",
        "* Eigenvalues and Eigenvectors [Link](https://colab.research.google.com/drive/1r_-tYotybwOu4w_R-FsnOtrjX0rAa_c2)\n",
        "\n",
        "* Interpolation \n",
        "\n",
        "  * Lagrange Polynomial [Link](https://colab.research.google.com/drive/1Xu0wOcAb7d2oZUDByEW5hQbDLYQXmfam)\n",
        "\n",
        "  * Newton Polynomial [Link - to be added]()\n",
        "\n",
        "* Regression\n",
        "\n",
        "  * Linear (analytical) [Link](https://colab.research.google.com/drive/1L2LTSqc3z3jyl4yUmo_S_xJaus4GWAl0)\n",
        "\n",
        "  * Linear (machine learning) [Link](https://colab.research.google.com/drive/15ZqIaEFvB0Bpvya5101EBzS051MOTxzi)\n",
        "\n",
        "* Iterative Solver \n",
        "\n",
        "  * Bisection Method [Link](https://colab.research.google.com/drive/1TeY8-XaD7GkhoBrfzvpPZJ06rJP78x3h)\n",
        "\n",
        "  * Fixed Point Method [Link](https://colab.research.google.com/drive/1iojfNcHVszCE-K8bEgI4cycM_3po6ZKu)\n",
        "\n",
        "  * Newton's Method [Link](https://colab.research.google.com/drive/1YscjdQo7wbj8nCeiJBjeH7Rsn85w5fzQ)\n"
      ],
      "metadata": {
        "id": "IoCtL_t5zlTU"
      }
    },
    {
      "cell_type": "markdown",
      "source": [
        "## Chapter III: Numerical Modelling Methods\n",
        "\n",
        "_Note: this chapter require basic knowledge in transport phenomena (heat and momentum transport), which is introduced in Chapter IV - Appendix._\n",
        "\n",
        "**Eulerian method** \n",
        "\n",
        "* Finite Difference Method \n",
        "  \n",
        "  * Theory [Link](https://colab.research.google.com/drive/112RwVrrQUIItYmzv7BMe4c5r8hFhdmMM)\n",
        "\n",
        "  * Examples \n",
        "    \n",
        "    * 1D heat conduction (with and without interface, different boundary conditions) [Link](https://colab.research.google.com/drive/1docL8hKTHyn9Ow9HNYrT4hLObtJrDUTR)\n",
        "\n",
        "    * 2D heat condution [Link](https://colab.research.google.com/drive/1XEMcyHqGkkQARuc5fW9p4KKtamaKesvO)\n",
        "    \n",
        "    * 2D coupled thermal and fluid flow [Link](https://colab.research.google.com/drive/1HnrENvh5kGBENHAhMdWLi0u7brJg-UR8)\n",
        "\n",
        "* Finite Volume Method \n",
        "  \n",
        "  * Theory [Link](https://colab.research.google.com/drive/1x-QwuHDdZmNLk35W9r0kuLln7kJ6Wk8U)\n",
        "\n",
        "  * Examples (1D heat diffusion and convection) [Link](https://colab.research.google.com/drive/1ikqKNYWMmte9UCA3lIDttXAMG1n3O1LT)\n",
        "  \n",
        "* Finite Element Method (in progress)\n",
        "  \n",
        "  * Theory [Link - in progress](https://colab.research.google.com/drive/1gLBFfKy1WuqCrukRaVFdjbm5un_EQiqs)\n",
        "\n",
        "  * Examples [to be added]()\n",
        "\n",
        "**Lagrangian method**\n",
        "\n",
        "* A simple example - Mass-Spring system [Link](https://colab.research.google.com/drive/1EoHBFJBuDakiq_amn-YodX2f0iDeVg1V)\n",
        "\n",
        "* Smooth Particle Hydrodynamics (SPH) [to be added]()"
      ],
      "metadata": {
        "id": "wB8dOdSeu5_o"
      }
    },
    {
      "cell_type": "markdown",
      "source": [
        "## Chapter IV: Appendix - Computational Fluid Dynamics"
      ],
      "metadata": {
        "id": "BVK0sYl8z6ma"
      }
    },
    {
      "cell_type": "markdown",
      "source": [
        "**Basic Theory of Transport Phenomena**\n",
        "\n",
        "* Introduction [Link](https://colab.research.google.com/drive/1WQVGcf0D7E_AKM05OtoGUbVewcaeLblM)\n",
        "\n",
        "* Development of the Navier-Stokes Equations\n",
        "\n",
        "  * Conservation of mass (continuity) [Link](https://colab.research.google.com/drive/1vQef65D-qOTsuRG0t7ephjTSfqdeUzyr)\n",
        "\n",
        "  * Conservation of energy (thermal) [Link](https://colab.research.google.com/drive/1Db34eXxaUIQbTNsIO1n4elU1MvfShQOU)\n",
        "\n",
        "  * Conservation of momentum (fluid flow) [Link](https://colab.research.google.com/drive/100B55rnRL4eFpbylKxb1omD0bSDYcobi)\n",
        "\n",
        "  * Conservation of mass species [Link](https://colab.research.google.com/drive/1X3VtIVWSOniBhxEMwwT1_qM-ao3gelpM)\n",
        "\n",
        "  * All equations - the Navier-Stokes Equations (transient and steay state forms) [Link](https://colab.research.google.com/drive/1RUcwaSgyH8F8EfycPoSiX7LiBcREpndm)"
      ],
      "metadata": {
        "id": "qwhjebiPgWO3"
      }
    },
    {
      "cell_type": "markdown",
      "source": [
        "**Analysis Approaches**\n",
        "\n",
        "* Emperical Correlations \n",
        "\n",
        "  * Brief description [Link](https://colab.research.google.com/drive/19JugacvS78j5N1QcaQIrVzvFDTXhfG5n)\n",
        "\n",
        "  * $\\Pi$ Theorem [Link](https://colab.research.google.com/drive/16_SL0ViQDFcSOrx6CfVbRHG-qaE_x_fP)\n",
        "  \n",
        "    * $\\mathrm{Nu}=f\\mathrm{(Re, Pr)}$: the application of $\\Pi$ theorem in heat transfer [Link](https://colab.research.google.com/drive/1FGcgyRPpfawtXHzmFEkNvFMG5LByJrid)\n",
        "\n",
        "* Analytical Solutions\n",
        "  \n",
        "  * Theory [Link](https://colab.research.google.com/drive/1Zgukjn0WjUEj5SWIHbLa9ENlZMo6F2cK)\n",
        "  \n",
        "  * Code (Blasius boundary layer) [Link](https://colab.research.google.com/drive/15Kdb2_gFSo8yER2DYoKfxcXd3sNIjNyM)\n",
        "\n",
        "* Numerical Methods (presented in the previous chapter) [Link](https://colab.research.google.com/drive/1tMfojgcfo8I9xO3ucKJ_Q0HCyYXBxjNX#scrollTo=wB8dOdSeu5_o)"
      ],
      "metadata": {
        "id": "R0CwtWG1GIjK"
      }
    },
    {
      "cell_type": "markdown",
      "source": [
        "## Miscellaneous\n",
        "\n",
        "* Grain growth by Phase Field Theory [Link](https://colab.research.google.com/drive/1_Wv8csXZSF1EjTmiKqDDxHmLOUy-ah_q)"
      ],
      "metadata": {
        "id": "gsQ5H6dMxmRM"
      }
    },
    {
      "cell_type": "markdown",
      "source": [
        "---\n",
        "\n",
        "End of document\n"
      ],
      "metadata": {
        "id": "48YQ8i4CYTyQ"
      }
    }
  ]
}